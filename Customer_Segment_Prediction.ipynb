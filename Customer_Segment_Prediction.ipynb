{
  "nbformat": 4,
  "nbformat_minor": 0,
  "metadata": {
    "colab": {
      "provenance": [],
      "include_colab_link": true
    },
    "kernelspec": {
      "name": "python3",
      "display_name": "Python 3"
    },
    "language_info": {
      "name": "python"
    }
  },
  "cells": [
    {
      "cell_type": "markdown",
      "metadata": {
        "id": "view-in-github",
        "colab_type": "text"
      },
      "source": [
        "<a href=\"https://colab.research.google.com/github/YossefEFM/CodeClause_Customer_Segment_Prediction/blob/main/Customer_Segment_Prediction.ipynb\" target=\"_parent\"><img src=\"https://colab.research.google.com/assets/colab-badge.svg\" alt=\"Open In Colab\"/></a>"
      ]
    },
    {
      "cell_type": "markdown",
      "source": [
        "# Author : ***Yossef Essam***\n",
        "\n",
        "# **Code clause (Data Science intern)**\n"
      ],
      "metadata": {
        "id": "IX1ky952f3Sj"
      }
    },
    {
      "cell_type": "markdown",
      "source": [
        "# All Importings"
      ],
      "metadata": {
        "id": "gB4hUOkTciDK"
      }
    },
    {
      "cell_type": "code",
      "source": [
        "import pandas as pd\n",
        "from sklearn.preprocessing import LabelEncoder\n",
        "from sklearn.model_selection import train_test_split\n",
        "from sklearn.linear_model import LogisticRegression\n",
        "from sklearn.metrics import  confusion_matrix,classification_report"
      ],
      "metadata": {
        "id": "OHdnxFPGbQl5"
      },
      "execution_count": 1,
      "outputs": []
    },
    {
      "cell_type": "markdown",
      "source": [
        "# Load Data & Explore it"
      ],
      "metadata": {
        "id": "ufwT2U29cjmt"
      }
    },
    {
      "cell_type": "code",
      "source": [
        "Data = pd.read_csv(\"/content/sample_data/ELD Service Provider Segmentation Dataset.csv\")\n",
        "# Explore Dataset\n",
        "print(Data.info())"
      ],
      "metadata": {
        "id": "KhGHbruDbToA",
        "outputId": "a6e62752-0353-480e-918f-0a0552d529db",
        "colab": {
          "base_uri": "https://localhost:8080/"
        }
      },
      "execution_count": 3,
      "outputs": [
        {
          "output_type": "stream",
          "name": "stdout",
          "text": [
            "<class 'pandas.core.frame.DataFrame'>\n",
            "RangeIndex: 2333 entries, 0 to 2332\n",
            "Data columns (total 6 columns):\n",
            " #   Column                 Non-Null Count  Dtype  \n",
            "---  ------                 --------------  -----  \n",
            " 0   Segment                2333 non-null   object \n",
            " 1   Territory              2333 non-null   object \n",
            " 2   Customer Date          2333 non-null   object \n",
            " 3   Net ARR                2332 non-null   float64\n",
            " 4   Composite Fleet Size   2333 non-null   int64  \n",
            " 5   Number of ELD Devices  2331 non-null   float64\n",
            "dtypes: float64(2), int64(1), object(3)\n",
            "memory usage: 109.5+ KB\n",
            "None\n"
          ]
        }
      ]
    },
    {
      "cell_type": "markdown",
      "source": [
        "# Data Preprocessing"
      ],
      "metadata": {
        "id": "vSmOUMJgcmU5"
      }
    },
    {
      "cell_type": "code",
      "source": [
        " # 1/ Cleaning the data from Missing values\n",
        "print(\"\\n Missing values : \")\n",
        "print(Data.isna().sum())\n",
        "Data.dropna(axis =0 , inplace=True)\n",
        "\n",
        "# 2/ Check duplicates\n",
        "print(\"\\n Duplicates  :\")\n",
        "print(Data.duplicated().sum())\n",
        "\n",
        "# 3/ Encoding Data\n",
        "labelencoder=LabelEncoder()\n",
        "Data['Territory'] = labelencoder.fit_transform(Data['Territory'])\n",
        "Data['Segment'] = labelencoder.fit_transform(Data['Segment'])\n",
        "\n",
        "\n",
        "# 4/ Removing Unwanted columns\n",
        "print(\"\\n\",Data.corr(),\"\\n\")\n",
        "Data.drop(columns= \"Customer Date\", inplace=True)\n",
        "\n",
        "print(Data.head())"
      ],
      "metadata": {
        "id": "Far7UPJCbUfx",
        "outputId": "d9b4c62d-f7e2-49a6-eaca-07bfbccaccab",
        "colab": {
          "base_uri": "https://localhost:8080/"
        }
      },
      "execution_count": 4,
      "outputs": [
        {
          "output_type": "stream",
          "name": "stdout",
          "text": [
            "\n",
            " Missing values : \n",
            "Segment                  0\n",
            "Territory                0\n",
            "Customer Date            0\n",
            "Net ARR                  1\n",
            "Composite Fleet Size     0\n",
            "Number of ELD Devices    2\n",
            "dtype: int64\n",
            "\n",
            " Duplicates  :\n",
            "0\n",
            "\n",
            "                         Segment  Territory   Net ARR  Composite Fleet Size  \\\n",
            "Segment                1.000000  -0.024278  0.261434              0.143073   \n",
            "Territory             -0.024278   1.000000  0.052178              0.056903   \n",
            "Net ARR                0.261434   0.052178  1.000000              0.486156   \n",
            "Composite Fleet Size   0.143073   0.056903  0.486156              1.000000   \n",
            "Number of ELD Devices  0.274427   0.042400  0.935234              0.548331   \n",
            "\n",
            "                       Number of ELD Devices  \n",
            "Segment                             0.274427  \n",
            "Territory                           0.042400  \n",
            "Net ARR                             0.935234  \n",
            "Composite Fleet Size                0.548331  \n",
            "Number of ELD Devices               1.000000   \n",
            "\n",
            "   Segment  Territory   Net ARR  Composite Fleet Size  Number of ELD Devices\n",
            "0        1         24    4200.0                   289                   10.0\n",
            "1        1         16  256212.0                  1200                  777.0\n",
            "2        1         24  412260.0                 11000                 1437.0\n",
            "3        1          5   35184.0                    94                  113.0\n",
            "4        1         27  369480.0                   650                  708.0\n"
          ]
        }
      ]
    },
    {
      "cell_type": "markdown",
      "source": [
        "# Modeling"
      ],
      "metadata": {
        "id": "hvkBaIzFctL1"
      }
    },
    {
      "cell_type": "code",
      "source": [
        " # 1/ Splitting data\n",
        "# X --> features , Y --> Label\n",
        "\n",
        "X = Data.drop(columns='Segment')\n",
        "Y = Data.Segment\n",
        "\n",
        "  # ** Split Features & Label to train and test\n",
        "X_train, X_test, y_train, y_test = train_test_split(X, Y, test_size = 0.20,  shuffle= True ,random_state= 1 )\n",
        " "
      ],
      "metadata": {
        "id": "O0iCsN5nbXnn"
      },
      "execution_count": 5,
      "outputs": []
    },
    {
      "cell_type": "code",
      "source": [
        " # 2/ Calling Logistic regression\n",
        "log_reg = LogisticRegression()\n",
        "\n",
        "  # 3/ Train data\n",
        "log_reg.fit(X_train, y_train)"
      ],
      "metadata": {
        "id": "Frr959FfcwyR",
        "outputId": "4d55aa84-2cf0-4ad9-9246-eb58adf39120",
        "colab": {
          "base_uri": "https://localhost:8080/"
        }
      },
      "execution_count": 6,
      "outputs": [
        {
          "output_type": "stream",
          "name": "stderr",
          "text": [
            "/usr/local/lib/python3.7/dist-packages/sklearn/linear_model/_logistic.py:818: ConvergenceWarning: lbfgs failed to converge (status=1):\n",
            "STOP: TOTAL NO. of ITERATIONS REACHED LIMIT.\n",
            "\n",
            "Increase the number of iterations (max_iter) or scale the data as shown in:\n",
            "    https://scikit-learn.org/stable/modules/preprocessing.html\n",
            "Please also refer to the documentation for alternative solver options:\n",
            "    https://scikit-learn.org/stable/modules/linear_model.html#logistic-regression\n",
            "  extra_warning_msg=_LOGISTIC_SOLVER_CONVERGENCE_MSG,\n"
          ]
        },
        {
          "output_type": "execute_result",
          "data": {
            "text/plain": [
              "LogisticRegression()"
            ]
          },
          "metadata": {},
          "execution_count": 6
        }
      ]
    },
    {
      "cell_type": "code",
      "source": [
        "  # 4/ Predict\n",
        "y_pred = log_reg.predict(X_test)\n",
        "\n",
        " # Confisuion Matrix\n",
        "#print(confusion_matrix(y_test, y_pred))\n",
        "# 5/ Report\n",
        "report = classification_report(y_test, y_pred)\n",
        "print('report:', report, sep='\\n')\n"
      ],
      "metadata": {
        "id": "XxX6KHi3c1iI",
        "outputId": "d2b2d711-847f-40c4-e846-c332c9eead98",
        "colab": {
          "base_uri": "https://localhost:8080/"
        }
      },
      "execution_count": 7,
      "outputs": [
        {
          "output_type": "stream",
          "name": "stdout",
          "text": [
            "report:\n",
            "              precision    recall  f1-score   support\n",
            "\n",
            "           0       0.86      0.82      0.84       309\n",
            "           1       0.44      0.47      0.45        15\n",
            "           2       0.65      0.72      0.68       143\n",
            "\n",
            "    accuracy                           0.78       467\n",
            "   macro avg       0.65      0.67      0.66       467\n",
            "weighted avg       0.79      0.78      0.78       467\n",
            "\n"
          ]
        }
      ]
    },
    {
      "cell_type": "markdown",
      "source": [
        "# Accuracy in 20% of data to Test  ----> 78%\n"
      ],
      "metadata": {
        "id": "ek1QF_todKvu"
      }
    }
  ]
}