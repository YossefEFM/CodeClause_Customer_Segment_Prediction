{
  "nbformat": 4,
  "nbformat_minor": 0,
  "metadata": {
    "colab": {
      "provenance": [],
      "collapsed_sections": [],
      "authorship_tag": "ABX9TyNcnI0Fey++ZHGRFXn/E5Ml",
      "include_colab_link": true
    },
    "kernelspec": {
      "name": "python3",
      "display_name": "Python 3"
    },
    "language_info": {
      "name": "python"
    }
  },
  "cells": [
    {
      "cell_type": "markdown",
      "metadata": {
        "id": "view-in-github",
        "colab_type": "text"
      },
      "source": [
        "<a href=\"https://colab.research.google.com/github/YossefEFM/CodeClause_Customer_Segment_Prediction/blob/main/CodeClause_Customer_Segment_Prediction.ipynb\" target=\"_parent\"><img src=\"https://colab.research.google.com/assets/colab-badge.svg\" alt=\"Open In Colab\"/></a>"
      ]
    },
    {
      "cell_type": "markdown",
      "source": [
        "# All Importings\n",
        " "
      ],
      "metadata": {
        "id": "NdXoE5k14zoR"
      }
    },
    {
      "cell_type": "code",
      "execution_count": 7,
      "metadata": {
        "id": "mM1Bfwrp0b45"
      },
      "outputs": [],
      "source": [
        "import pandas as pd\n",
        "from sklearn.preprocessing import LabelEncoder\n",
        "from sklearn.model_selection import train_test_split\n",
        "from sklearn.linear_model import LogisticRegression\n",
        "from sklearn.metrics import  confusion_matrix,classification_report"
      ]
    },
    {
      "cell_type": "markdown",
      "source": [
        "# Load Data & Explore it"
      ],
      "metadata": {
        "id": "dzO0X57r03wg"
      }
    },
    {
      "cell_type": "code",
      "source": [
        "# Load Data\n",
        "Data = pd.read_csv(\"/content/Customer Segment.csv\")\n",
        "# Explore Dataset\n",
        "print(Data.info())"
      ],
      "metadata": {
        "id": "wA5n52Zp0iod"
      },
      "execution_count": null,
      "outputs": []
    },
    {
      "cell_type": "markdown",
      "source": [
        "\n",
        "# Data Preprocessing"
      ],
      "metadata": {
        "id": "RRiOeFMG0w7J"
      }
    },
    {
      "cell_type": "code",
      "source": [
        " # 1/ Cleaning the data from Missing values\n",
        "print(\"\\n Missing values : \")\n",
        "print(Data.isna().sum())\n",
        "Data.dropna(axis =0 , inplace=True)\n",
        "\n",
        "# 2/ Check duplicates\n",
        "print(\"\\n Duplicates  :\")\n",
        "print(Data.duplicated().sum())\n",
        "\n",
        "# 3/ Encoding Data\n",
        "labelencoder=LabelEncoder()\n",
        "Data['Segmentation'] = labelencoder.fit_transform(Data['Segmentation'])\n",
        "Data['Gender'] = labelencoder.fit_transform(Data['Gender'])\n",
        "Data['Ever_Married'] = labelencoder.fit_transform(Data['Ever_Married'])\n",
        "Data['Spending_Score'] = labelencoder.fit_transform(Data['Spending_Score'])\n",
        "Data['Graduated'] = labelencoder.fit_transform(Data['Graduated'])\n",
        "Data['Var_1'] = labelencoder.fit_transform(Data['Var_1'])\n",
        "Data['Profession'] = labelencoder.fit_transform(Data['Profession'])\n",
        "\n",
        "# 4/ Removing Unwanted columns\n",
        "print(\"\\n\",Data.corr(),\"\\n\")\n",
        "Data.drop(columns= \"ID\", inplace=True)\n",
        "\n",
        "print(Data.head())\n"
      ],
      "metadata": {
        "id": "kbAGtCpy0nAY"
      },
      "execution_count": null,
      "outputs": []
    },
    {
      "cell_type": "markdown",
      "source": [
        "# Modeling"
      ],
      "metadata": {
        "id": "3jJnrXmt1Cm1"
      }
    },
    {
      "cell_type": "code",
      "source": [
        " # 1/ Splitting data\n",
        "# X --> features , Y --> Label\n",
        "\n",
        "X = Data.drop(columns='Segmentation')\n",
        "Y = Data.Segmentation\n",
        "\n",
        "  # ** Split Features & Label to train and test\n",
        "X_train, X_test, y_train, y_test = train_test_split(X, Y, test_size = 0.20,  shuffle= True ,random_state= 1 )\n"
      ],
      "metadata": {
        "id": "uSNyvVhR0qgc"
      },
      "execution_count": 4,
      "outputs": []
    },
    {
      "cell_type": "code",
      "source": [
        "  # 2/ Calling Logistic regression\n",
        "log_reg = LogisticRegression()\n",
        "\n",
        "  # 3/ Train data\n",
        "log_reg.fit(X_train, y_train)"
      ],
      "metadata": {
        "id": "ToHbbxhU1Jcf"
      },
      "execution_count": null,
      "outputs": []
    },
    {
      "cell_type": "code",
      "source": [
        "\n",
        "  # 4/ Predict\n",
        "y_pred = log_reg.predict(X_test)\n",
        "\n",
        " # Confisuion Matrix\n",
        "#print(confusion_matrix(y_test, y_pred))\n",
        "# 5/ Report\n",
        "report = classification_report(y_test, y_pred)\n",
        "print('report:', report, sep='\\n')\n"
      ],
      "metadata": {
        "id": "nTos4c1-0s0s"
      },
      "execution_count": null,
      "outputs": []
    },
    {
      "cell_type": "markdown",
      "source": [
        "# Accuracy in 10% of data to Test  ----> 41%\n",
        "# Accuracy in 20% of data to Test  ----> 38%\n"
      ],
      "metadata": {
        "id": "OLTE88lc4MaQ"
      }
    }
  ]
}